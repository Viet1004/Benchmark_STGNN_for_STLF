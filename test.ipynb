{
 "cells": [
  {
   "cell_type": "code",
   "execution_count": 2,
   "metadata": {},
   "outputs": [],
   "source": [
    "import torch.nn as nn\n",
    "import torch\n",
    "import pandas as pd\n",
    "import datetime"
   ]
  },
  {
   "cell_type": "code",
   "execution_count": 7,
   "metadata": {},
   "outputs": [
    {
     "data": {
      "text/plain": [
       "tensor([[0., 2.],\n",
       "        [0., 4.]])"
      ]
     },
     "execution_count": 7,
     "metadata": {},
     "output_type": "execute_result"
    }
   ],
   "source": [
    "adj = torch.Tensor([[1,2],[3,4]])\n",
    "\n",
    "ret = torch.topk(adj, k=1)\n",
    "res = torch.zeros_like(adj)\n",
    "res.scatter_(1, ret.indices, ret.values)\n",
    "res\n"
   ]
  },
  {
   "cell_type": "code",
   "execution_count": 10,
   "metadata": {},
   "outputs": [
    {
     "data": {
      "text/plain": [
       "17472"
      ]
     },
     "execution_count": 10,
     "metadata": {},
     "output_type": "execute_result"
    }
   ],
   "source": [
    "\n",
    "df = pd.read_hdf('data/LCL_12month.h5').iloc[:,:10]\n",
    "len(df.index)"
   ]
  },
  {
   "cell_type": "code",
   "execution_count": 11,
   "metadata": {},
   "outputs": [
    {
     "data": {
      "text/plain": [
       "1487"
      ]
     },
     "execution_count": 11,
     "metadata": {},
     "output_type": "execute_result"
    }
   ],
   "source": [
    "\n",
    "df.index = pd.to_datetime(df.index)\n",
    "df_one_month = df[df.index < datetime.datetime(2013,2,1,0,0,0)]\n",
    "len(df_one_month.index)"
   ]
  },
  {
   "cell_type": "code",
   "execution_count": 5,
   "metadata": {},
   "outputs": [
    {
     "data": {
      "text/plain": [
       "(2, 6, 1)"
      ]
     },
     "execution_count": 5,
     "metadata": {},
     "output_type": "execute_result"
    }
   ],
   "source": [
    "y = x.transpose(0,1)\n",
    "y.stride()"
   ]
  },
  {
   "cell_type": "code",
   "execution_count": 14,
   "metadata": {},
   "outputs": [
    {
     "data": {
      "text/plain": [
       "tensor([[[ 1,  2],\n",
       "         [ 3,  4],\n",
       "         [ 5,  6]],\n",
       "\n",
       "        [[ 7,  8],\n",
       "         [ 9, 10],\n",
       "         [11, 12]]])"
      ]
     },
     "execution_count": 14,
     "metadata": {},
     "output_type": "execute_result"
    }
   ],
   "source": [
    "x"
   ]
  },
  {
   "cell_type": "code",
   "execution_count": 11,
   "metadata": {},
   "outputs": [
    {
     "data": {
      "text/plain": [
       "torch.Size([3, 2, 2])"
      ]
     },
     "execution_count": 11,
     "metadata": {},
     "output_type": "execute_result"
    }
   ],
   "source": [
    "y.shape"
   ]
  },
  {
   "cell_type": "code",
   "execution_count": 13,
   "metadata": {},
   "outputs": [
    {
     "data": {
      "text/plain": [
       "tensor([[[ 1,  2],\n",
       "         [ 7,  8]],\n",
       "\n",
       "        [[ 3,  4],\n",
       "         [ 9, 10]],\n",
       "\n",
       "        [[ 5,  6],\n",
       "         [11, 12]]])"
      ]
     },
     "execution_count": 13,
     "metadata": {},
     "output_type": "execute_result"
    }
   ],
   "source": [
    "y"
   ]
  },
  {
   "cell_type": "code",
   "execution_count": 7,
   "metadata": {},
   "outputs": [
    {
     "data": {
      "text/plain": [
       "(4, 2, 1)"
      ]
     },
     "execution_count": 7,
     "metadata": {},
     "output_type": "execute_result"
    }
   ],
   "source": [
    "z = y.contiguous()\n",
    "z.stride()"
   ]
  },
  {
   "cell_type": "code",
   "execution_count": 10,
   "metadata": {},
   "outputs": [
    {
     "data": {
      "text/plain": [
       "torch.Size([3, 2, 2])"
      ]
     },
     "execution_count": 10,
     "metadata": {},
     "output_type": "execute_result"
    }
   ],
   "source": [
    "z.shape"
   ]
  },
  {
   "cell_type": "code",
   "execution_count": 44,
   "metadata": {},
   "outputs": [
    {
     "name": "stdout",
     "output_type": "stream",
     "text": [
      "\n",
      "P\n",
      "A\n",
      "\n",
      "\n",
      "A\n",
      "L\n",
      "\n",
      "\n",
      "H\n",
      "I\n",
      "\n",
      "\n",
      "N\n"
     ]
    },
    {
     "data": {
      "text/plain": [
       "'YPISRIGYPISRIGYPISRIG'"
      ]
     },
     "execution_count": 44,
     "metadata": {},
     "output_type": "execute_result"
    }
   ],
   "source": [
    "import numpy as np\n",
    "def convert(s: str, numRows: int) -> str:\n",
    "        if numRows == 1:\n",
    "            return s\n",
    "        n_blocks = len(s) // (2*numRows - 2)\n",
    "        residue = len(s) % (2*numRows - 2)\n",
    "        extra_cols = 1 if residue <= numRows else 1 + residue - numRows\n",
    "        n_cols = n_blocks*(numRows - 1) + extra_cols\n",
    "\n",
    "        table = [[\"\"] * int(n_cols)] * numRows \n",
    "        # table = np.array(table)\n",
    "        for i, c in enumerate(s):\n",
    "            block = i // (2 * numRows - 2)\n",
    "            res = i % (2 * numRows - 2)\n",
    "            row = res if res < numRows else 2*numRows - 2 - res\n",
    "            col = block * (numRows - 1) if res < numRows else block * (numRows - 1) + res - numRows + 1\n",
    "            print(table[row][col])\n",
    "            table[row][col] = c\n",
    "            \n",
    "\n",
    "        result = \"\"\n",
    "        for row in range(len(table)):\n",
    "            for col in range(len(table[row])):\n",
    "                result += table[row][col]\n",
    "        return result\n",
    "convert('PAYPALISHIRING', 3)"
   ]
  },
  {
   "cell_type": "code",
   "execution_count": 22,
   "metadata": {},
   "outputs": [
    {
     "data": {
      "text/plain": [
       "torch.Size([2, 2, 9])"
      ]
     },
     "execution_count": 22,
     "metadata": {},
     "output_type": "execute_result"
    }
   ],
   "source": [
    "# power-2 pool of window of length 3, with stride 2.\n",
    "m = nn.LPPool1d(2, 3, stride=2)\n",
    "input = torch.randn(2, 2, 20)\n",
    "output = m(input)\n",
    "output.shape"
   ]
  },
  {
   "cell_type": "code",
   "execution_count": 1,
   "metadata": {},
   "outputs": [],
   "source": [
    "import pandas as pd"
   ]
  },
  {
   "cell_type": "code",
   "execution_count": 2,
   "metadata": {},
   "outputs": [],
   "source": [
    "df = pd.read_hdf('data/LCL_12month.h5')"
   ]
  },
  {
   "cell_type": "code",
   "execution_count": 7,
   "metadata": {},
   "outputs": [
    {
     "data": {
      "text/html": [
       "<div>\n",
       "<style scoped>\n",
       "    .dataframe tbody tr th:only-of-type {\n",
       "        vertical-align: middle;\n",
       "    }\n",
       "\n",
       "    .dataframe tbody tr th {\n",
       "        vertical-align: top;\n",
       "    }\n",
       "\n",
       "    .dataframe thead th {\n",
       "        text-align: right;\n",
       "    }\n",
       "</style>\n",
       "<table border=\"1\" class=\"dataframe\">\n",
       "  <thead>\n",
       "    <tr style=\"text-align: right;\">\n",
       "      <th></th>\n",
       "      <th>MAC000002</th>\n",
       "      <th>MAC000003</th>\n",
       "      <th>MAC000005</th>\n",
       "      <th>MAC000007</th>\n",
       "      <th>MAC000009</th>\n",
       "      <th>MAC000010</th>\n",
       "      <th>MAC000011</th>\n",
       "      <th>MAC000013</th>\n",
       "      <th>MAC000014</th>\n",
       "      <th>MAC000017</th>\n",
       "      <th>MAC000018</th>\n",
       "      <th>MAC000019</th>\n",
       "      <th>MAC000020</th>\n",
       "      <th>MAC000021</th>\n",
       "      <th>MAC000022</th>\n",
       "      <th>MAC000023</th>\n",
       "      <th>MAC000024</th>\n",
       "      <th>MAC000026</th>\n",
       "      <th>MAC000027</th>\n",
       "      <th>MAC000030</th>\n",
       "    </tr>\n",
       "  </thead>\n",
       "  <tbody>\n",
       "    <tr>\n",
       "      <th>1357000200000000000</th>\n",
       "      <td>0.241</td>\n",
       "      <td>1.922</td>\n",
       "      <td>0.111</td>\n",
       "      <td>0.204</td>\n",
       "      <td>0.176</td>\n",
       "      <td>0.453</td>\n",
       "      <td>0.301</td>\n",
       "      <td>0.349</td>\n",
       "      <td>0.034</td>\n",
       "      <td>0.040</td>\n",
       "      <td>0.191</td>\n",
       "      <td>0.087</td>\n",
       "      <td>0.080</td>\n",
       "      <td>0.386</td>\n",
       "      <td>0.479</td>\n",
       "      <td>0.040</td>\n",
       "      <td>2.856</td>\n",
       "      <td>0.131</td>\n",
       "      <td>0.218</td>\n",
       "      <td>0.065</td>\n",
       "    </tr>\n",
       "    <tr>\n",
       "      <th>1357002000000000000</th>\n",
       "      <td>0.191</td>\n",
       "      <td>1.808</td>\n",
       "      <td>0.071</td>\n",
       "      <td>0.161</td>\n",
       "      <td>0.147</td>\n",
       "      <td>0.500</td>\n",
       "      <td>0.657</td>\n",
       "      <td>0.284</td>\n",
       "      <td>0.033</td>\n",
       "      <td>0.077</td>\n",
       "      <td>0.131</td>\n",
       "      <td>0.116</td>\n",
       "      <td>0.063</td>\n",
       "      <td>0.331</td>\n",
       "      <td>0.472</td>\n",
       "      <td>0.049</td>\n",
       "      <td>2.830</td>\n",
       "      <td>0.165</td>\n",
       "      <td>0.379</td>\n",
       "      <td>0.145</td>\n",
       "    </tr>\n",
       "    <tr>\n",
       "      <th>1357003800000000000</th>\n",
       "      <td>0.235</td>\n",
       "      <td>0.795</td>\n",
       "      <td>0.035</td>\n",
       "      <td>0.214</td>\n",
       "      <td>0.093</td>\n",
       "      <td>0.621</td>\n",
       "      <td>0.683</td>\n",
       "      <td>0.136</td>\n",
       "      <td>0.016</td>\n",
       "      <td>0.035</td>\n",
       "      <td>0.146</td>\n",
       "      <td>0.069</td>\n",
       "      <td>0.074</td>\n",
       "      <td>0.398</td>\n",
       "      <td>0.473</td>\n",
       "      <td>0.143</td>\n",
       "      <td>2.870</td>\n",
       "      <td>0.163</td>\n",
       "      <td>0.215</td>\n",
       "      <td>0.128</td>\n",
       "    </tr>\n",
       "    <tr>\n",
       "      <th>1357005600000000000</th>\n",
       "      <td>0.182</td>\n",
       "      <td>1.235</td>\n",
       "      <td>0.035</td>\n",
       "      <td>0.186</td>\n",
       "      <td>0.088</td>\n",
       "      <td>0.197</td>\n",
       "      <td>0.658</td>\n",
       "      <td>0.140</td>\n",
       "      <td>0.034</td>\n",
       "      <td>0.035</td>\n",
       "      <td>0.115</td>\n",
       "      <td>0.109</td>\n",
       "      <td>0.052</td>\n",
       "      <td>0.529</td>\n",
       "      <td>0.464</td>\n",
       "      <td>0.380</td>\n",
       "      <td>3.324</td>\n",
       "      <td>0.131</td>\n",
       "      <td>0.254</td>\n",
       "      <td>0.058</td>\n",
       "    </tr>\n",
       "    <tr>\n",
       "      <th>1357007400000000000</th>\n",
       "      <td>0.229</td>\n",
       "      <td>0.924</td>\n",
       "      <td>0.034</td>\n",
       "      <td>0.126</td>\n",
       "      <td>0.145</td>\n",
       "      <td>0.176</td>\n",
       "      <td>0.773</td>\n",
       "      <td>0.102</td>\n",
       "      <td>0.026</td>\n",
       "      <td>0.071</td>\n",
       "      <td>0.142</td>\n",
       "      <td>0.068</td>\n",
       "      <td>0.058</td>\n",
       "      <td>0.392</td>\n",
       "      <td>0.379</td>\n",
       "      <td>0.094</td>\n",
       "      <td>2.810</td>\n",
       "      <td>0.130</td>\n",
       "      <td>0.196</td>\n",
       "      <td>0.094</td>\n",
       "    </tr>\n",
       "    <tr>\n",
       "      <th>...</th>\n",
       "      <td>...</td>\n",
       "      <td>...</td>\n",
       "      <td>...</td>\n",
       "      <td>...</td>\n",
       "      <td>...</td>\n",
       "      <td>...</td>\n",
       "      <td>...</td>\n",
       "      <td>...</td>\n",
       "      <td>...</td>\n",
       "      <td>...</td>\n",
       "      <td>...</td>\n",
       "      <td>...</td>\n",
       "      <td>...</td>\n",
       "      <td>...</td>\n",
       "      <td>...</td>\n",
       "      <td>...</td>\n",
       "      <td>...</td>\n",
       "      <td>...</td>\n",
       "      <td>...</td>\n",
       "      <td>...</td>\n",
       "    </tr>\n",
       "    <tr>\n",
       "      <th>1388440800000000000</th>\n",
       "      <td>0.424</td>\n",
       "      <td>0.080</td>\n",
       "      <td>0.297</td>\n",
       "      <td>0.390</td>\n",
       "      <td>0.286</td>\n",
       "      <td>1.980</td>\n",
       "      <td>0.348</td>\n",
       "      <td>0.109</td>\n",
       "      <td>0.114</td>\n",
       "      <td>0.158</td>\n",
       "      <td>0.567</td>\n",
       "      <td>0.207</td>\n",
       "      <td>0.240</td>\n",
       "      <td>1.149</td>\n",
       "      <td>0.518</td>\n",
       "      <td>0.559</td>\n",
       "      <td>1.377</td>\n",
       "      <td>0.133</td>\n",
       "      <td>0.300</td>\n",
       "      <td>0.164</td>\n",
       "    </tr>\n",
       "    <tr>\n",
       "      <th>1388442600000000000</th>\n",
       "      <td>0.477</td>\n",
       "      <td>0.093</td>\n",
       "      <td>0.113</td>\n",
       "      <td>0.872</td>\n",
       "      <td>0.209</td>\n",
       "      <td>1.120</td>\n",
       "      <td>0.309</td>\n",
       "      <td>0.070</td>\n",
       "      <td>0.149</td>\n",
       "      <td>0.207</td>\n",
       "      <td>0.577</td>\n",
       "      <td>0.198</td>\n",
       "      <td>0.225</td>\n",
       "      <td>1.001</td>\n",
       "      <td>0.474</td>\n",
       "      <td>0.543</td>\n",
       "      <td>1.276</td>\n",
       "      <td>0.114</td>\n",
       "      <td>0.183</td>\n",
       "      <td>0.197</td>\n",
       "    </tr>\n",
       "    <tr>\n",
       "      <th>1388444400000000000</th>\n",
       "      <td>0.445</td>\n",
       "      <td>0.107</td>\n",
       "      <td>0.113</td>\n",
       "      <td>0.279</td>\n",
       "      <td>0.285</td>\n",
       "      <td>1.625</td>\n",
       "      <td>0.329</td>\n",
       "      <td>0.110</td>\n",
       "      <td>0.120</td>\n",
       "      <td>0.174</td>\n",
       "      <td>0.271</td>\n",
       "      <td>0.180</td>\n",
       "      <td>0.232</td>\n",
       "      <td>0.992</td>\n",
       "      <td>0.495</td>\n",
       "      <td>0.515</td>\n",
       "      <td>1.071</td>\n",
       "      <td>0.142</td>\n",
       "      <td>0.194</td>\n",
       "      <td>0.187</td>\n",
       "    </tr>\n",
       "    <tr>\n",
       "      <th>1388446200000000000</th>\n",
       "      <td>0.433</td>\n",
       "      <td>0.097</td>\n",
       "      <td>0.104</td>\n",
       "      <td>0.230</td>\n",
       "      <td>0.114</td>\n",
       "      <td>0.856</td>\n",
       "      <td>0.270</td>\n",
       "      <td>0.129</td>\n",
       "      <td>0.123</td>\n",
       "      <td>0.194</td>\n",
       "      <td>0.324</td>\n",
       "      <td>0.101</td>\n",
       "      <td>0.183</td>\n",
       "      <td>0.881</td>\n",
       "      <td>0.506</td>\n",
       "      <td>0.480</td>\n",
       "      <td>1.187</td>\n",
       "      <td>0.121</td>\n",
       "      <td>0.266</td>\n",
       "      <td>0.065</td>\n",
       "    </tr>\n",
       "    <tr>\n",
       "      <th>1388448000000000000</th>\n",
       "      <td>0.461</td>\n",
       "      <td>1.394</td>\n",
       "      <td>0.040</td>\n",
       "      <td>0.087</td>\n",
       "      <td>0.078</td>\n",
       "      <td>0.480</td>\n",
       "      <td>0.308</td>\n",
       "      <td>0.090</td>\n",
       "      <td>0.048</td>\n",
       "      <td>0.181</td>\n",
       "      <td>0.262</td>\n",
       "      <td>0.075</td>\n",
       "      <td>0.189</td>\n",
       "      <td>0.470</td>\n",
       "      <td>0.526</td>\n",
       "      <td>0.195</td>\n",
       "      <td>1.245</td>\n",
       "      <td>0.098</td>\n",
       "      <td>0.261</td>\n",
       "      <td>0.098</td>\n",
       "    </tr>\n",
       "  </tbody>\n",
       "</table>\n",
       "<p>17472 rows × 20 columns</p>\n",
       "</div>"
      ],
      "text/plain": [
       "                     MAC000002  MAC000003  MAC000005  MAC000007  MAC000009  \\\n",
       "1357000200000000000      0.241      1.922      0.111      0.204      0.176   \n",
       "1357002000000000000      0.191      1.808      0.071      0.161      0.147   \n",
       "1357003800000000000      0.235      0.795      0.035      0.214      0.093   \n",
       "1357005600000000000      0.182      1.235      0.035      0.186      0.088   \n",
       "1357007400000000000      0.229      0.924      0.034      0.126      0.145   \n",
       "...                        ...        ...        ...        ...        ...   \n",
       "1388440800000000000      0.424      0.080      0.297      0.390      0.286   \n",
       "1388442600000000000      0.477      0.093      0.113      0.872      0.209   \n",
       "1388444400000000000      0.445      0.107      0.113      0.279      0.285   \n",
       "1388446200000000000      0.433      0.097      0.104      0.230      0.114   \n",
       "1388448000000000000      0.461      1.394      0.040      0.087      0.078   \n",
       "\n",
       "                     MAC000010  MAC000011  MAC000013  MAC000014  MAC000017  \\\n",
       "1357000200000000000      0.453      0.301      0.349      0.034      0.040   \n",
       "1357002000000000000      0.500      0.657      0.284      0.033      0.077   \n",
       "1357003800000000000      0.621      0.683      0.136      0.016      0.035   \n",
       "1357005600000000000      0.197      0.658      0.140      0.034      0.035   \n",
       "1357007400000000000      0.176      0.773      0.102      0.026      0.071   \n",
       "...                        ...        ...        ...        ...        ...   \n",
       "1388440800000000000      1.980      0.348      0.109      0.114      0.158   \n",
       "1388442600000000000      1.120      0.309      0.070      0.149      0.207   \n",
       "1388444400000000000      1.625      0.329      0.110      0.120      0.174   \n",
       "1388446200000000000      0.856      0.270      0.129      0.123      0.194   \n",
       "1388448000000000000      0.480      0.308      0.090      0.048      0.181   \n",
       "\n",
       "                     MAC000018  MAC000019  MAC000020  MAC000021  MAC000022  \\\n",
       "1357000200000000000      0.191      0.087      0.080      0.386      0.479   \n",
       "1357002000000000000      0.131      0.116      0.063      0.331      0.472   \n",
       "1357003800000000000      0.146      0.069      0.074      0.398      0.473   \n",
       "1357005600000000000      0.115      0.109      0.052      0.529      0.464   \n",
       "1357007400000000000      0.142      0.068      0.058      0.392      0.379   \n",
       "...                        ...        ...        ...        ...        ...   \n",
       "1388440800000000000      0.567      0.207      0.240      1.149      0.518   \n",
       "1388442600000000000      0.577      0.198      0.225      1.001      0.474   \n",
       "1388444400000000000      0.271      0.180      0.232      0.992      0.495   \n",
       "1388446200000000000      0.324      0.101      0.183      0.881      0.506   \n",
       "1388448000000000000      0.262      0.075      0.189      0.470      0.526   \n",
       "\n",
       "                     MAC000023  MAC000024  MAC000026  MAC000027  MAC000030  \n",
       "1357000200000000000      0.040      2.856      0.131      0.218      0.065  \n",
       "1357002000000000000      0.049      2.830      0.165      0.379      0.145  \n",
       "1357003800000000000      0.143      2.870      0.163      0.215      0.128  \n",
       "1357005600000000000      0.380      3.324      0.131      0.254      0.058  \n",
       "1357007400000000000      0.094      2.810      0.130      0.196      0.094  \n",
       "...                        ...        ...        ...        ...        ...  \n",
       "1388440800000000000      0.559      1.377      0.133      0.300      0.164  \n",
       "1388442600000000000      0.543      1.276      0.114      0.183      0.197  \n",
       "1388444400000000000      0.515      1.071      0.142      0.194      0.187  \n",
       "1388446200000000000      0.480      1.187      0.121      0.266      0.065  \n",
       "1388448000000000000      0.195      1.245      0.098      0.261      0.098  \n",
       "\n",
       "[17472 rows x 20 columns]"
      ]
     },
     "execution_count": 7,
     "metadata": {},
     "output_type": "execute_result"
    }
   ],
   "source": [
    "df.iloc[:,:20]"
   ]
  },
  {
   "cell_type": "code",
   "execution_count": null,
   "metadata": {},
   "outputs": [],
   "source": [
    "corpus = litstudy.build_corpus(docs, ngram_threshold=0.8)"
   ]
  }
 ],
 "metadata": {
  "kernelspec": {
   "display_name": "tsl-base",
   "language": "python",
   "name": "python3"
  },
  "language_info": {
   "codemirror_mode": {
    "name": "ipython",
    "version": 3
   },
   "file_extension": ".py",
   "mimetype": "text/x-python",
   "name": "python",
   "nbconvert_exporter": "python",
   "pygments_lexer": "ipython3",
   "version": "3.10.14"
  }
 },
 "nbformat": 4,
 "nbformat_minor": 2
}
